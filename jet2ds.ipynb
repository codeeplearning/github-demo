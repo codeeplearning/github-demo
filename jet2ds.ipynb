{
  "nbformat": 4,
  "nbformat_minor": 0,
  "metadata": {
    "colab": {
      "name": "jet2ds.ipynb",
      "provenance": [],
      "collapsed_sections": [],
      "authorship_tag": "ABX9TyO3d26a52h6eKxmanvnsERg",
      "include_colab_link": true
    },
    "kernelspec": {
      "name": "python3",
      "display_name": "Python 3"
    },
    "language_info": {
      "name": "python"
    }
  },
  "cells": [
    {
      "cell_type": "markdown",
      "metadata": {
        "id": "view-in-github",
        "colab_type": "text"
      },
      "source": [
        "<a href=\"https://colab.research.google.com/github/codeeplearning/github-demo/blob/master/jet2ds.ipynb\" target=\"_parent\"><img src=\"https://colab.research.google.com/assets/colab-badge.svg\" alt=\"Open In Colab\"/></a>"
      ]
    },
    {
      "cell_type": "code",
      "execution_count": 111,
      "metadata": {
        "colab": {
          "base_uri": "https://localhost:8080/"
        },
        "id": "qzHPsHi7ohvt",
        "outputId": "5d0a001b-6968-48ac-c50e-ad263ad737fc"
      },
      "outputs": [
        {
          "output_type": "stream",
          "name": "stdout",
          "text": [
            "[nltk_data] Downloading package wordnet to /root/nltk_data...\n",
            "[nltk_data]   Package wordnet is already up-to-date!\n"
          ]
        }
      ],
      "source": [
        "#imports\n",
        "import pandas as pd\n",
        "import numpy as np\n",
        "\n",
        "import seaborn as sns\n",
        "import matplotlib.pyplot as plt\n",
        "\n",
        "from sklearn.preprocessing import LabelEncoder\n",
        "import string\n",
        "import re\n",
        "import nltk\n",
        "from nltk.tokenize import TweetTokenizer\n",
        "from nltk.stem import WordNetLemmatizer\n",
        "nltk.download('wordnet')\n",
        "\n",
        "from sklearn.svm import SVC\n",
        "from sklearn.metrics import confusion_matrix\n",
        "from sklearn.model_selection import train_test_split\n",
        "from sklearn.feature_extraction.text import TfidfVectorizer\n",
        "from sklearn.metrics import confusion_matrix, classification_report\n",
        "from sklearn.svm import LinearSVC\n",
        "from sklearn.naive_bayes import BernoulliNB\n",
        "from sklearn.linear_model import LogisticRegression\n",
        "\n",
        "import gensim\n",
        "from gensim.utils import simple_preprocess\n",
        "from gensim.parsing.preprocessing import STOPWORDS\n",
        "from nltk.stem import WordNetLemmatizer, SnowballStemmer\n",
        "from nltk.stem.porter import *\n",
        "import numpy as np\n",
        "np.random.seed(400)"
      ]
    },
    {
      "cell_type": "markdown",
      "source": [
        "**Loading and reading input file**"
      ],
      "metadata": {
        "id": "mWJcKyiAu_p9"
      }
    },
    {
      "cell_type": "code",
      "source": [
        "#reading input file\n",
        "df=pd.read_csv(\"Usecase3_Dataset.csv\")"
      ],
      "metadata": {
        "id": "ekvf9tD1o0ba"
      },
      "execution_count": 112,
      "outputs": []
    },
    {
      "cell_type": "markdown",
      "source": [
        "**Exploratory Data Analysis**"
      ],
      "metadata": {
        "id": "IyTVQLrAvF1I"
      }
    },
    {
      "cell_type": "code",
      "source": [
        "#Reading head\n",
        "df.head(4)"
      ],
      "metadata": {
        "colab": {
          "base_uri": "https://localhost:8080/",
          "height": 175
        },
        "id": "B34Of9BbtuDj",
        "outputId": "5bd7198f-89c5-4b59-aca5-b44509932506"
      },
      "execution_count": 113,
      "outputs": [
        {
          "output_type": "execute_result",
          "data": {
            "text/html": [
              "\n",
              "  <div id=\"df-b0c36373-d852-40ce-b844-621dd7ee84ee\">\n",
              "    <div class=\"colab-df-container\">\n",
              "      <div>\n",
              "<style scoped>\n",
              "    .dataframe tbody tr th:only-of-type {\n",
              "        vertical-align: middle;\n",
              "    }\n",
              "\n",
              "    .dataframe tbody tr th {\n",
              "        vertical-align: top;\n",
              "    }\n",
              "\n",
              "    .dataframe thead th {\n",
              "        text-align: right;\n",
              "    }\n",
              "</style>\n",
              "<table border=\"1\" class=\"dataframe\">\n",
              "  <thead>\n",
              "    <tr style=\"text-align: right;\">\n",
              "      <th></th>\n",
              "      <th>airline_sentiment</th>\n",
              "      <th>airline</th>\n",
              "      <th>text</th>\n",
              "    </tr>\n",
              "  </thead>\n",
              "  <tbody>\n",
              "    <tr>\n",
              "      <th>0</th>\n",
              "      <td>neutral</td>\n",
              "      <td>Virgin America</td>\n",
              "      <td>@VirginAmerica What @dhepburn said.</td>\n",
              "    </tr>\n",
              "    <tr>\n",
              "      <th>1</th>\n",
              "      <td>positive</td>\n",
              "      <td>Virgin America</td>\n",
              "      <td>@VirginAmerica plus you've added commercials t...</td>\n",
              "    </tr>\n",
              "    <tr>\n",
              "      <th>2</th>\n",
              "      <td>neutral</td>\n",
              "      <td>Virgin America</td>\n",
              "      <td>@VirginAmerica I didn't today... Must mean I n...</td>\n",
              "    </tr>\n",
              "    <tr>\n",
              "      <th>3</th>\n",
              "      <td>negative</td>\n",
              "      <td>Virgin America</td>\n",
              "      <td>@VirginAmerica it's really aggressive to blast...</td>\n",
              "    </tr>\n",
              "  </tbody>\n",
              "</table>\n",
              "</div>\n",
              "      <button class=\"colab-df-convert\" onclick=\"convertToInteractive('df-b0c36373-d852-40ce-b844-621dd7ee84ee')\"\n",
              "              title=\"Convert this dataframe to an interactive table.\"\n",
              "              style=\"display:none;\">\n",
              "        \n",
              "  <svg xmlns=\"http://www.w3.org/2000/svg\" height=\"24px\"viewBox=\"0 0 24 24\"\n",
              "       width=\"24px\">\n",
              "    <path d=\"M0 0h24v24H0V0z\" fill=\"none\"/>\n",
              "    <path d=\"M18.56 5.44l.94 2.06.94-2.06 2.06-.94-2.06-.94-.94-2.06-.94 2.06-2.06.94zm-11 1L8.5 8.5l.94-2.06 2.06-.94-2.06-.94L8.5 2.5l-.94 2.06-2.06.94zm10 10l.94 2.06.94-2.06 2.06-.94-2.06-.94-.94-2.06-.94 2.06-2.06.94z\"/><path d=\"M17.41 7.96l-1.37-1.37c-.4-.4-.92-.59-1.43-.59-.52 0-1.04.2-1.43.59L10.3 9.45l-7.72 7.72c-.78.78-.78 2.05 0 2.83L4 21.41c.39.39.9.59 1.41.59.51 0 1.02-.2 1.41-.59l7.78-7.78 2.81-2.81c.8-.78.8-2.07 0-2.86zM5.41 20L4 18.59l7.72-7.72 1.47 1.35L5.41 20z\"/>\n",
              "  </svg>\n",
              "      </button>\n",
              "      \n",
              "  <style>\n",
              "    .colab-df-container {\n",
              "      display:flex;\n",
              "      flex-wrap:wrap;\n",
              "      gap: 12px;\n",
              "    }\n",
              "\n",
              "    .colab-df-convert {\n",
              "      background-color: #E8F0FE;\n",
              "      border: none;\n",
              "      border-radius: 50%;\n",
              "      cursor: pointer;\n",
              "      display: none;\n",
              "      fill: #1967D2;\n",
              "      height: 32px;\n",
              "      padding: 0 0 0 0;\n",
              "      width: 32px;\n",
              "    }\n",
              "\n",
              "    .colab-df-convert:hover {\n",
              "      background-color: #E2EBFA;\n",
              "      box-shadow: 0px 1px 2px rgba(60, 64, 67, 0.3), 0px 1px 3px 1px rgba(60, 64, 67, 0.15);\n",
              "      fill: #174EA6;\n",
              "    }\n",
              "\n",
              "    [theme=dark] .colab-df-convert {\n",
              "      background-color: #3B4455;\n",
              "      fill: #D2E3FC;\n",
              "    }\n",
              "\n",
              "    [theme=dark] .colab-df-convert:hover {\n",
              "      background-color: #434B5C;\n",
              "      box-shadow: 0px 1px 3px 1px rgba(0, 0, 0, 0.15);\n",
              "      filter: drop-shadow(0px 1px 2px rgba(0, 0, 0, 0.3));\n",
              "      fill: #FFFFFF;\n",
              "    }\n",
              "  </style>\n",
              "\n",
              "      <script>\n",
              "        const buttonEl =\n",
              "          document.querySelector('#df-b0c36373-d852-40ce-b844-621dd7ee84ee button.colab-df-convert');\n",
              "        buttonEl.style.display =\n",
              "          google.colab.kernel.accessAllowed ? 'block' : 'none';\n",
              "\n",
              "        async function convertToInteractive(key) {\n",
              "          const element = document.querySelector('#df-b0c36373-d852-40ce-b844-621dd7ee84ee');\n",
              "          const dataTable =\n",
              "            await google.colab.kernel.invokeFunction('convertToInteractive',\n",
              "                                                     [key], {});\n",
              "          if (!dataTable) return;\n",
              "\n",
              "          const docLinkHtml = 'Like what you see? Visit the ' +\n",
              "            '<a target=\"_blank\" href=https://colab.research.google.com/notebooks/data_table.ipynb>data table notebook</a>'\n",
              "            + ' to learn more about interactive tables.';\n",
              "          element.innerHTML = '';\n",
              "          dataTable['output_type'] = 'display_data';\n",
              "          await google.colab.output.renderOutput(dataTable, element);\n",
              "          const docLink = document.createElement('div');\n",
              "          docLink.innerHTML = docLinkHtml;\n",
              "          element.appendChild(docLink);\n",
              "        }\n",
              "      </script>\n",
              "    </div>\n",
              "  </div>\n",
              "  "
            ],
            "text/plain": [
              "  airline_sentiment  ...                                               text\n",
              "0           neutral  ...                @VirginAmerica What @dhepburn said.\n",
              "1          positive  ...  @VirginAmerica plus you've added commercials t...\n",
              "2           neutral  ...  @VirginAmerica I didn't today... Must mean I n...\n",
              "3          negative  ...  @VirginAmerica it's really aggressive to blast...\n",
              "\n",
              "[4 rows x 3 columns]"
            ]
          },
          "metadata": {},
          "execution_count": 113
        }
      ]
    },
    {
      "cell_type": "code",
      "source": [
        "#length of data\n",
        "len(df)"
      ],
      "metadata": {
        "colab": {
          "base_uri": "https://localhost:8080/"
        },
        "id": "v42hi31Vv82P",
        "outputId": "d402ceb4-3421-4545-908a-6be73dc24599"
      },
      "execution_count": 114,
      "outputs": [
        {
          "output_type": "execute_result",
          "data": {
            "text/plain": [
              "14640"
            ]
          },
          "metadata": {},
          "execution_count": 114
        }
      ]
    },
    {
      "cell_type": "code",
      "source": [
        "#shape of data\n",
        "df.shape"
      ],
      "metadata": {
        "colab": {
          "base_uri": "https://localhost:8080/"
        },
        "id": "pn252hPswGWw",
        "outputId": "efb8301c-2d62-4c1f-c511-7cd1ae20b143"
      },
      "execution_count": 115,
      "outputs": [
        {
          "output_type": "execute_result",
          "data": {
            "text/plain": [
              "(14640, 3)"
            ]
          },
          "metadata": {},
          "execution_count": 115
        }
      ]
    },
    {
      "cell_type": "code",
      "source": [
        "#checking null values\n",
        "np.sum(df.isnull().any(axis=1))"
      ],
      "metadata": {
        "colab": {
          "base_uri": "https://localhost:8080/"
        },
        "id": "itNMUW08wvmz",
        "outputId": "bb47ae4b-88d9-45f6-9325-2d5f45a56296"
      },
      "execution_count": 116,
      "outputs": [
        {
          "output_type": "execute_result",
          "data": {
            "text/plain": [
              "0"
            ]
          },
          "metadata": {},
          "execution_count": 116
        }
      ]
    },
    {
      "cell_type": "code",
      "source": [
        "#data info\n",
        "df.info()"
      ],
      "metadata": {
        "colab": {
          "base_uri": "https://localhost:8080/"
        },
        "id": "b3lGjtKTwNtI",
        "outputId": "5076ed78-236a-4a42-8837-a2f3a4207633"
      },
      "execution_count": 117,
      "outputs": [
        {
          "output_type": "stream",
          "name": "stdout",
          "text": [
            "<class 'pandas.core.frame.DataFrame'>\n",
            "RangeIndex: 14640 entries, 0 to 14639\n",
            "Data columns (total 3 columns):\n",
            " #   Column             Non-Null Count  Dtype \n",
            "---  ------             --------------  ----- \n",
            " 0   airline_sentiment  14640 non-null  object\n",
            " 1   airline            14640 non-null  object\n",
            " 2   text               14640 non-null  object\n",
            "dtypes: object(3)\n",
            "memory usage: 343.2+ KB\n"
          ]
        }
      ]
    },
    {
      "cell_type": "code",
      "source": [
        "#output unique values\n",
        "df['airline_sentiment'].unique()"
      ],
      "metadata": {
        "colab": {
          "base_uri": "https://localhost:8080/"
        },
        "id": "1NcyZ9TqwifS",
        "outputId": "0e1f8102-dbbd-46d3-d305-5d5370adc756"
      },
      "execution_count": 118,
      "outputs": [
        {
          "output_type": "execute_result",
          "data": {
            "text/plain": [
              "array(['neutral', 'positive', 'negative'], dtype=object)"
            ]
          },
          "metadata": {},
          "execution_count": 118
        }
      ]
    },
    {
      "cell_type": "code",
      "source": [
        "#value counts\n",
        "df['airline_sentiment'].value_counts()"
      ],
      "metadata": {
        "colab": {
          "base_uri": "https://localhost:8080/"
        },
        "id": "G4sdZ315w3Qi",
        "outputId": "ea275f0c-8ef4-4c00-9a96-0a31309412f4"
      },
      "execution_count": 119,
      "outputs": [
        {
          "output_type": "execute_result",
          "data": {
            "text/plain": [
              "negative    9178\n",
              "neutral     3099\n",
              "positive    2363\n",
              "Name: airline_sentiment, dtype: int64"
            ]
          },
          "metadata": {},
          "execution_count": 119
        }
      ]
    },
    {
      "cell_type": "markdown",
      "source": [
        "**Data Visualization of Target Variables**"
      ],
      "metadata": {
        "id": "SWSPExcC48sY"
      }
    },
    {
      "cell_type": "code",
      "source": [
        "# Plotting the distribution for dataset.\n",
        "ax = df.groupby('airline_sentiment').count().plot(kind='bar', title='Distribution of data',legend=True)\n",
        "ax.set_xticklabels(['negative','positive','neutral'], rotation=0)\n",
        "text, sentiment = list(df['text']), list(df['airline_sentiment'])"
      ],
      "metadata": {
        "colab": {
          "base_uri": "https://localhost:8080/",
          "height": 296
        },
        "id": "8ejSdPjTxjV_",
        "outputId": "2fc76ef7-6ef7-407d-ddd9-24898e30886a"
      },
      "execution_count": 120,
      "outputs": [
        {
          "output_type": "display_data",
          "data": {
            "image/png": "[encoded data removed]",
            "text/plain": [
              "<Figure size 432x288 with 1 Axes>"
            ]
          },
          "metadata": {
            "needs_background": "light"
          }
        }
      ]
    },
    {
      "cell_type": "code",
      "source": [
        "#drawing count-bar chart target class wise\n",
        "ax = sns.countplot(x=\"airline_sentiment\", hue=\"airline\", data=df)"
      ],
      "metadata": {
        "colab": {
          "base_uri": "https://localhost:8080/",
          "height": 280
        },
        "id": "h0yN5c2P4KnG",
        "outputId": "2b282f79-81c4-4b70-b1eb-dc9e0a2f555a"
      },
      "execution_count": 121,
      "outputs": [
        {
          "output_type": "display_data",
          "data": {
            "image/png": "[encoded data removed]",
            "text/plain": [
              "<Figure size 432x288 with 1 Axes>"
            ]
          },
          "metadata": {
            "needs_background": "light"
          }
        }
      ]
    },
    {
      "cell_type": "code",
      "source": [
        "#drawing count-bar chart target airline wise\n",
        "ax = sns.countplot(x=\"airline\", hue=\"airline_sentiment\", data=df)"
      ],
      "metadata": {
        "colab": {
          "base_uri": "https://localhost:8080/",
          "height": 279
        },
        "id": "fuwUGPcD0nTr",
        "outputId": "b01a86e1-6094-448e-825b-6e60cdc8dac7"
      },
      "execution_count": 122,
      "outputs": [
        {
          "output_type": "display_data",
          "data": {
            "image/png": "[encoded data removed]",
            "text/plain": [
              "<Figure size 432x288 with 1 Axes>"
            ]
          },
          "metadata": {
            "needs_background": "light"
          }
        }
      ]
    },
    {
      "cell_type": "markdown",
      "source": [
        "**Data Preprocessing**"
      ],
      "metadata": {
        "id": "LT26ilsb5PCk"
      }
    },
    {
      "cell_type": "code",
      "source": [
        "#taking relavant data\n",
        "data=df[['text','airline_sentiment']]"
      ],
      "metadata": {
        "id": "bbZjIEdj5led"
      },
      "execution_count": 123,
      "outputs": []
    },
    {
      "cell_type": "code",
      "source": [
        "#converting sentiment to numeric category using label encoder  \n",
        "LE = LabelEncoder()\n",
        "data['target'] = LE.fit_transform(df['airline_sentiment'])\n",
        "data.head(2)\n"
      ],
      "metadata": {
        "colab": {
          "base_uri": "https://localhost:8080/",
          "height": 112
        },
        "id": "s2p18d_t57ME",
        "outputId": "5ec956f6-4dc0-4b52-8f49-c055b43b3b2d"
      },
      "execution_count": 124,
      "outputs": [
        {
          "output_type": "execute_result",
          "data": {
            "text/html": [
              "\n",
              "  <div id=\"df-f1e0fd6b-eec8-4a86-9e63-6daf8cb8321e\">\n",
              "    <div class=\"colab-df-container\">\n",
              "      <div>\n",
              "<style scoped>\n",
              "    .dataframe tbody tr th:only-of-type {\n",
              "        vertical-align: middle;\n",
              "    }\n",
              "\n",
              "    .dataframe tbody tr th {\n",
              "        vertical-align: top;\n",
              "    }\n",
              "\n",
              "    .dataframe thead th {\n",
              "        text-align: right;\n",
              "    }\n",
              "</style>\n",
              "<table border=\"1\" class=\"dataframe\">\n",
              "  <thead>\n",
              "    <tr style=\"text-align: right;\">\n",
              "      <th></th>\n",
              "      <th>text</th>\n",
              "      <th>airline_sentiment</th>\n",
              "      <th>target</th>\n",
              "    </tr>\n",
              "  </thead>\n",
              "  <tbody>\n",
              "    <tr>\n",
              "      <th>0</th>\n",
              "      <td>@VirginAmerica What @dhepburn said.</td>\n",
              "      <td>neutral</td>\n",
              "      <td>1</td>\n",
              "    </tr>\n",
              "    <tr>\n",
              "      <th>1</th>\n",
              "      <td>@VirginAmerica plus you've added commercials t...</td>\n",
              "      <td>positive</td>\n",
              "      <td>2</td>\n",
              "    </tr>\n",
              "  </tbody>\n",
              "</table>\n",
              "</div>\n",
              "      <button class=\"colab-df-convert\" onclick=\"convertToInteractive('df-f1e0fd6b-eec8-4a86-9e63-6daf8cb8321e')\"\n",
              "              title=\"Convert this dataframe to an interactive table.\"\n",
              "              style=\"display:none;\">\n",
              "        \n",
              "  <svg xmlns=\"http://www.w3.org/2000/svg\" height=\"24px\"viewBox=\"0 0 24 24\"\n",
              "       width=\"24px\">\n",
              "    <path d=\"M0 0h24v24H0V0z\" fill=\"none\"/>\n",
              "    <path d=\"M18.56 5.44l.94 2.06.94-2.06 2.06-.94-2.06-.94-.94-2.06-.94 2.06-2.06.94zm-11 1L8.5 8.5l.94-2.06 2.06-.94-2.06-.94L8.5 2.5l-.94 2.06-2.06.94zm10 10l.94 2.06.94-2.06 2.06-.94-2.06-.94-.94-2.06-.94 2.06-2.06.94z\"/><path d=\"M17.41 7.96l-1.37-1.37c-.4-.4-.92-.59-1.43-.59-.52 0-1.04.2-1.43.59L10.3 9.45l-7.72 7.72c-.78.78-.78 2.05 0 2.83L4 21.41c.39.39.9.59 1.41.59.51 0 1.02-.2 1.41-.59l7.78-7.78 2.81-2.81c.8-.78.8-2.07 0-2.86zM5.41 20L4 18.59l7.72-7.72 1.47 1.35L5.41 20z\"/>\n",
              "  </svg>\n",
              "      </button>\n",
              "      \n",
              "  <style>\n",
              "    .colab-df-container {\n",
              "      display:flex;\n",
              "      flex-wrap:wrap;\n",
              "      gap: 12px;\n",
              "    }\n",
              "\n",
              "    .colab-df-convert {\n",
              "      background-color: #E8F0FE;\n",
              "      border: none;\n",
              "      border-radius: 50%;\n",
              "      cursor: pointer;\n",
              "      display: none;\n",
              "      fill: #1967D2;\n",
              "      height: 32px;\n",
              "      padding: 0 0 0 0;\n",
              "      width: 32px;\n",
              "    }\n",
              "\n",
              "    .colab-df-convert:hover {\n",
              "      background-color: #E2EBFA;\n",
              "      box-shadow: 0px 1px 2px rgba(60, 64, 67, 0.3), 0px 1px 3px 1px rgba(60, 64, 67, 0.15);\n",
              "      fill: #174EA6;\n",
              "    }\n",
              "\n",
              "    [theme=dark] .colab-df-convert {\n",
              "      background-color: #3B4455;\n",
              "      fill: #D2E3FC;\n",
              "    }\n",
              "\n",
              "    [theme=dark] .colab-df-convert:hover {\n",
              "      background-color: #434B5C;\n",
              "      box-shadow: 0px 1px 3px 1px rgba(0, 0, 0, 0.15);\n",
              "      filter: drop-shadow(0px 1px 2px rgba(0, 0, 0, 0.3));\n",
              "      fill: #FFFFFF;\n",
              "    }\n",
              "  </style>\n",
              "\n",
              "      <script>\n",
              "        const buttonEl =\n",
              "          document.querySelector('#df-f1e0fd6b-eec8-4a86-9e63-6daf8cb8321e button.colab-df-convert');\n",
              "        buttonEl.style.display =\n",
              "          google.colab.kernel.accessAllowed ? 'block' : 'none';\n",
              "\n",
              "        async function convertToInteractive(key) {\n",
              "          const element = document.querySelector('#df-f1e0fd6b-eec8-4a86-9e63-6daf8cb8321e');\n",
              "          const dataTable =\n",
              "            await google.colab.kernel.invokeFunction('convertToInteractive',\n",
              "                                                     [key], {});\n",
              "          if (!dataTable) return;\n",
              "\n",
              "          const docLinkHtml = 'Like what you see? Visit the ' +\n",
              "            '<a target=\"_blank\" href=https://colab.research.google.com/notebooks/data_table.ipynb>data table notebook</a>'\n",
              "            + ' to learn more about interactive tables.';\n",
              "          element.innerHTML = '';\n",
              "          dataTable['output_type'] = 'display_data';\n",
              "          await google.colab.output.renderOutput(dataTable, element);\n",
              "          const docLink = document.createElement('div');\n",
              "          docLink.innerHTML = docLinkHtml;\n",
              "          element.appendChild(docLink);\n",
              "        }\n",
              "      </script>\n",
              "    </div>\n",
              "  </div>\n",
              "  "
            ],
            "text/plain": [
              "                                                text airline_sentiment  target\n",
              "0                @VirginAmerica What @dhepburn said.           neutral       1\n",
              "1  @VirginAmerica plus you've added commercials t...          positive       2"
            ]
          },
          "metadata": {},
          "execution_count": 124
        }
      ]
    },
    {
      "cell_type": "code",
      "source": [
        "#unique target values\n",
        "data['target'].unique()"
      ],
      "metadata": {
        "colab": {
          "base_uri": "https://localhost:8080/"
        },
        "id": "xVHea9hg63gp",
        "outputId": "5760253c-20f6-4e8f-d5bc-785e255d0a5d"
      },
      "execution_count": 125,
      "outputs": [
        {
          "output_type": "execute_result",
          "data": {
            "text/plain": [
              "array([1, 2, 0])"
            ]
          },
          "metadata": {},
          "execution_count": 125
        }
      ]
    },
    {
      "cell_type": "code",
      "source": [
        "#converting text to lower case\n",
        "data['text']=data['text'].str.lower()\n",
        "data['text'].head(2)"
      ],
      "metadata": {
        "colab": {
          "base_uri": "https://localhost:8080/"
        },
        "id": "fjcu1bHG8L_L",
        "outputId": "dc0a375a-0077-4432-e412-09c21f557578"
      },
      "execution_count": 126,
      "outputs": [
        {
          "output_type": "execute_result",
          "data": {
            "text/plain": [
              "0                  @virginamerica what @dhepburn said.\n",
              "1    @virginamerica plus you've added commercials t...\n",
              "Name: text, dtype: object"
            ]
          },
          "metadata": {},
          "execution_count": 126
        }
      ]
    },
    {
      "cell_type": "code",
      "source": [
        "#defining set of stopwords for removing for more efficient model. @source internet\n",
        "stopwordlist = ['a', 'about', 'above', 'after', 'again', 'ain', 'all', 'am', 'an',\n",
        "             'and','any','are', 'as', 'at', 'be', 'because', 'been', 'before',\n",
        "             'being', 'below', 'between','both', 'by', 'can', 'd', 'did', 'do',\n",
        "             'does', 'doing', 'down', 'during', 'each','few', 'for', 'from',\n",
        "             'further', 'had', 'has', 'have', 'having', 'he', 'her', 'here',\n",
        "             'hers', 'herself', 'him', 'himself', 'his', 'how', 'i', 'if', 'in',\n",
        "             'into','is', 'it', 'its', \"it's\",'itself', 'just', 'll', 'm', 'ma',\n",
        "             'me', 'more', 'most','my', 'myself', 'now', 'o', 'of', 'on', 'once',\n",
        "             'only', 'or', 'other', 'our', 'ours','ourselves', 'out', 'own', 're',\n",
        "             's', 'same', 'she', \"shes\", 'should', \"shouldve\",'so', 'some', 'such',\n",
        "             't', 'than', 'that', \"thatll\", 'the', 'their', 'theirs', 'them',\n",
        "             'themselves', 'then', 'there', 'these', 'they', 'this', 'those',\n",
        "             'through', 'to', 'too','under', 'until', 'up', 've', 'very', 'was',\n",
        "             'we', 'were', 'what', 'when', 'where','which','while', 'who', 'whom',\n",
        "             'why', 'will', 'with', 'won', 'y', 'you', \"youd\",\"youll\", \"youre\",\n",
        "             \"youve\",\"you've\", 'your', 'yours', 'yourself', 'yourselves',\n",
        "             ]"
      ],
      "metadata": {
        "id": "OsQec7IJ8iKr"
      },
      "execution_count": 127,
      "outputs": []
    },
    {
      "cell_type": "code",
      "source": [
        "#removing stopwords\n",
        "STOPWORDS = set(stopwordlist)\n",
        "def cleaning_stopwords(text):\n",
        "    return \" \".join([word for word in str(text).split() if word not in STOPWORDS])\n",
        "data['text'] = data['text'].apply(lambda text: cleaning_stopwords(text))\n",
        "data['text'].head()"
      ],
      "metadata": {
        "colab": {
          "base_uri": "https://localhost:8080/"
        },
        "id": "qpipl0I_8-ha",
        "outputId": "a965104c-31bf-417f-9aa7-99dc008a91dc"
      },
      "execution_count": 128,
      "outputs": [
        {
          "output_type": "execute_result",
          "data": {
            "text/plain": [
              "0                       @virginamerica @dhepburn said.\n",
              "1    @virginamerica plus added commercials experien...\n",
              "2    @virginamerica didn't today... must mean need ...\n",
              "3    @virginamerica really aggressive blast obnoxio...\n",
              "4                  @virginamerica really big bad thing\n",
              "Name: text, dtype: object"
            ]
          },
          "metadata": {},
          "execution_count": 128
        }
      ]
    },
    {
      "cell_type": "code",
      "source": [
        "# removing URL’s\n",
        "def cleaning_URLs(data):\n",
        "    return re.sub('((www.[^s]+)|(https?://[^s]+))',' ',data)\n",
        "data['text'] = data['text'].apply(lambda x: cleaning_URLs(x))\n",
        "data['text'].head()"
      ],
      "metadata": {
        "colab": {
          "base_uri": "https://localhost:8080/"
        },
        "id": "ySDg0KKj-4b_",
        "outputId": "ac716e84-0a42-4ac4-85a0-77bd7f9737ff"
      },
      "execution_count": 129,
      "outputs": [
        {
          "output_type": "execute_result",
          "data": {
            "text/plain": [
              "0                       @virginamerica @dhepburn said.\n",
              "1    @virginamerica plus added commercials experien...\n",
              "2    @virginamerica didn't today... must mean need ...\n",
              "3    @virginamerica really aggressive blast obnoxio...\n",
              "4                  @virginamerica really big bad thing\n",
              "Name: text, dtype: object"
            ]
          },
          "metadata": {},
          "execution_count": 129
        }
      ]
    },
    {
      "cell_type": "code",
      "source": [
        "#removing punctuations\n",
        "english_punctuations = string.punctuation\n",
        "punctuations_list = english_punctuations.replace(\"@\",\"\")\n",
        "def cleaning_punctuations(text):\n",
        "    translator = str.maketrans('', '', punctuations_list)\n",
        "    return text.translate(translator)\n",
        "data['text']= data['text'].apply(lambda x: cleaning_punctuations(x))\n",
        "data['text'].head()"
      ],
      "metadata": {
        "colab": {
          "base_uri": "https://localhost:8080/"
        },
        "id": "ISwnFjx6FoN_",
        "outputId": "8b51ff8b-fccb-493c-ea66-7d4b6afe31c6"
      },
      "execution_count": 130,
      "outputs": [
        {
          "output_type": "execute_result",
          "data": {
            "text/plain": [
              "0                        @virginamerica @dhepburn said\n",
              "1    @virginamerica plus added commercials experien...\n",
              "2    @virginamerica didnt today must mean need take...\n",
              "3    @virginamerica really aggressive blast obnoxio...\n",
              "4                  @virginamerica really big bad thing\n",
              "Name: text, dtype: object"
            ]
          },
          "metadata": {},
          "execution_count": 130
        }
      ]
    },
    {
      "cell_type": "code",
      "source": [
        "#removing Numeric numbers\n",
        "def cleaning_numbers(data):\n",
        "    return re.sub('[0-9]+', '', data)\n",
        "data['text'] = data['text'].apply(lambda x: cleaning_numbers(x))\n",
        "data['text'].head()"
      ],
      "metadata": {
        "colab": {
          "base_uri": "https://localhost:8080/"
        },
        "id": "w4Iej1EV-_nT",
        "outputId": "eb90d5bc-0790-4fef-b8a7-3cb24b8ccea5"
      },
      "execution_count": 131,
      "outputs": [
        {
          "output_type": "execute_result",
          "data": {
            "text/plain": [
              "0                        @virginamerica @dhepburn said\n",
              "1    @virginamerica plus added commercials experien...\n",
              "2    @virginamerica didnt today must mean need take...\n",
              "3    @virginamerica really aggressive blast obnoxio...\n",
              "4                  @virginamerica really big bad thing\n",
              "Name: text, dtype: object"
            ]
          },
          "metadata": {},
          "execution_count": 131
        }
      ]
    },
    {
      "cell_type": "code",
      "source": [
        "#tokenization using tweet tokenizer \n",
        "#tweet tokenizer removes HTML code problematic characters, Twitter handles, and repeated letters.\n",
        "tokenizer = TweetTokenizer(strip_handles=True)\n",
        "data['text'] = data['text'].apply(tokenizer.tokenize)\n",
        "data['text'].head(5)"
      ],
      "metadata": {
        "colab": {
          "base_uri": "https://localhost:8080/"
        },
        "id": "L0nqJXgu_QLh",
        "outputId": "8d144c07-d6b4-4ce5-b0e1-aaccbe9d1e7c"
      },
      "execution_count": 132,
      "outputs": [
        {
          "output_type": "execute_result",
          "data": {
            "text/plain": [
              "0                                               [said]\n",
              "1        [plus, added, commercials, experience, tacky]\n",
              "2    [didnt, today, must, mean, need, take, another...\n",
              "3    [really, aggressive, blast, obnoxious, enterta...\n",
              "4                            [really, big, bad, thing]\n",
              "Name: text, dtype: object"
            ]
          },
          "metadata": {},
          "execution_count": 132
        }
      ]
    },
    {
      "cell_type": "code",
      "source": [
        "#applying stemming\n",
        "st = nltk.PorterStemmer()\n",
        "def stemming_on_text(data):\n",
        "    text = [st.stem(word) for word in data]\n",
        "    return data\n",
        "data['text']= data['text'].apply(lambda x: stemming_on_text(x))\n",
        "data['text'].head()"
      ],
      "metadata": {
        "colab": {
          "base_uri": "https://localhost:8080/"
        },
        "id": "XD7swvbIE-5n",
        "outputId": "13ac774d-a265-4b4b-c674-e9e9be7bac11"
      },
      "execution_count": 133,
      "outputs": [
        {
          "output_type": "execute_result",
          "data": {
            "text/plain": [
              "0                                               [said]\n",
              "1        [plus, added, commercials, experience, tacky]\n",
              "2    [didnt, today, must, mean, need, take, another...\n",
              "3    [really, aggressive, blast, obnoxious, enterta...\n",
              "4                            [really, big, bad, thing]\n",
              "Name: text, dtype: object"
            ]
          },
          "metadata": {},
          "execution_count": 133
        }
      ]
    },
    {
      "cell_type": "code",
      "source": [
        "#applying lemmetization\n",
        "lm = nltk.WordNetLemmatizer()\n",
        "def lemmatizer_on_text(data):\n",
        "    text = [lm.lemmatize(word) for word in data]\n",
        "    return data\n",
        "data['text'] = data['text'].apply(lambda x: lemmatizer_on_text(x))\n",
        "data['text'].head()"
      ],
      "metadata": {
        "colab": {
          "base_uri": "https://localhost:8080/"
        },
        "id": "R3-V_ZcyG5sA",
        "outputId": "92326a47-f4a2-4cf8-efd4-10012de7b9ce"
      },
      "execution_count": 134,
      "outputs": [
        {
          "output_type": "execute_result",
          "data": {
            "text/plain": [
              "0                                               [said]\n",
              "1        [plus, added, commercials, experience, tacky]\n",
              "2    [didnt, today, must, mean, need, take, another...\n",
              "3    [really, aggressive, blast, obnoxious, enterta...\n",
              "4                            [really, big, bad, thing]\n",
              "Name: text, dtype: object"
            ]
          },
          "metadata": {},
          "execution_count": 134
        }
      ]
    },
    {
      "cell_type": "code",
      "source": [
        "#complete preprocessing function\n",
        "def preprocess_tweet(text):\n",
        "  \"\"\"\n",
        "  this function takes an input string(tweet), applies all the preprocessing steps and returns tokenized data\n",
        "  \"\"\"\n",
        "  #converting text to lower case\n",
        "  text_lower=text.lower()\n",
        "  #removing stopwords\n",
        "  text_stop_words_removed=cleaning_stopwords(text_lower)\n",
        "  # removing URL’s\n",
        "  text_without_urls=cleaning_URLs(text_stop_words_removed)\n",
        "  #removing punctuations\n",
        "  text_without_punc=cleaning_punctuations(text_without_urls)\n",
        "  #removing Numeric numbers\n",
        "  text_without_nums=cleaning_numbers(text_without_punc)\n",
        "  #tokenization using tweet tokenizer \n",
        "  tokenizer = TweetTokenizer(strip_handles=True)\n",
        "  text_tokenized = tokenizer.tokenize(text_without_nums)\n",
        "  #applying stemming\n",
        "  text_stemmed=stemming_on_text(text_tokenized)\n",
        "  #applying lemmetization\n",
        "  text_lemma=lemmatizer_on_text(text_stemmed)\n",
        "  return text_lemma"
      ],
      "metadata": {
        "id": "Rc98dGVW7YmQ"
      },
      "execution_count": 135,
      "outputs": []
    },
    {
      "cell_type": "code",
      "source": [
        "#defining X and y\n",
        "X=data.text\n",
        "y=data.target"
      ],
      "metadata": {
        "id": "2zCyffbLG-sV"
      },
      "execution_count": 136,
      "outputs": []
    },
    {
      "cell_type": "markdown",
      "source": [
        "**Splitting data into Train and Test Subset**"
      ],
      "metadata": {
        "id": "AwcIlrRGHl2W"
      }
    },
    {
      "cell_type": "code",
      "source": [
        "# Separating the 90% data for training data and 10% for testing data\n",
        "X_train, X_test, y_train, y_test = train_test_split(X,y,test_size = 0.1, random_state =2)\n",
        " "
      ],
      "metadata": {
        "id": "WhxjJ-rIHaMI"
      },
      "execution_count": 137,
      "outputs": []
    },
    {
      "cell_type": "code",
      "source": [
        "#making TFIDF Vectorizer as it expects an array of strings. So if we pass it an array of arrays of tokenz, it crashes\n",
        "X_train=X_train.apply(lambda x: ' '.join(x))\n",
        "X_test=X_test.apply(lambda x: ' '.join(x))\n"
      ],
      "metadata": {
        "id": "6xw406vtI3sR"
      },
      "execution_count": 138,
      "outputs": []
    },
    {
      "cell_type": "code",
      "source": [
        "X_train"
      ],
      "metadata": {
        "colab": {
          "base_uri": "https://localhost:8080/"
        },
        "id": "Pq3zDMPsJyoI",
        "outputId": "7baef1cf-1e54-463d-c2ef-6766f37cfb9b"
      },
      "execution_count": 139,
      "outputs": [
        {
          "output_type": "execute_result",
          "data": {
            "text/plain": [
              "14111                         everythings good brothaaaaaa\n",
              "2645       thank much help birthday trip tickets confirmed\n",
              "3488     updates dot looking united fares london us las...\n",
              "3083      predawn flight miami ewr annual sobewff trip now\n",
              "12561    not cool flight cancelled flightled sitting pl...\n",
              "                               ...                        \n",
              "11798    please hogs next flight me im waiting bus get ...\n",
              "13896                             trouble getting rebooked\n",
              "6637     eventually get but flight cancelled flightled ...\n",
              "2575     flying home am event tomorrow pushed back flig...\n",
              "7336     flight den jfk already hrs delayed idea might ...\n",
              "Name: text, Length: 13176, dtype: object"
            ]
          },
          "metadata": {},
          "execution_count": 139
        }
      ]
    },
    {
      "cell_type": "markdown",
      "source": [
        "**Transforming Dataset using TF-IDF Vectorizer**"
      ],
      "metadata": {
        "id": "l3xz5f8FINAa"
      }
    },
    {
      "cell_type": "code",
      "source": [
        "#Fitting the TF-IDF Vectorizer\n",
        "vectoriser = TfidfVectorizer(ngram_range=(1,2), max_features=100000)\n",
        "vectoriser.fit(X_train)\n",
        "print('No. of feature_words: ', len(vectoriser.get_feature_names()))"
      ],
      "metadata": {
        "colab": {
          "base_uri": "https://localhost:8080/"
        },
        "id": "tkQ4WuRNH4Oe",
        "outputId": "88bc053d-d252-4551-9e6e-b2220083ca1a"
      },
      "execution_count": 140,
      "outputs": [
        {
          "output_type": "stream",
          "name": "stdout",
          "text": [
            "No. of feature_words:  89325\n"
          ]
        },
        {
          "output_type": "stream",
          "name": "stderr",
          "text": [
            "/usr/local/lib/python3.7/dist-packages/sklearn/utils/deprecation.py:87: FutureWarning: Function get_feature_names is deprecated; get_feature_names is deprecated in 1.0 and will be removed in 1.2. Please use get_feature_names_out instead.\n",
            "  warnings.warn(msg, category=FutureWarning)\n"
          ]
        }
      ]
    },
    {
      "cell_type": "code",
      "source": [
        "#Transform the data using TF-IDF Vectorizer\n",
        "X_train = vectoriser.transform(X_train)\n",
        "X_test  = vectoriser.transform(X_test)"
      ],
      "metadata": {
        "id": "gdyVjrIWIbKL"
      },
      "execution_count": 141,
      "outputs": []
    },
    {
      "cell_type": "markdown",
      "source": [
        "**Model building and Evaluation**"
      ],
      "metadata": {
        "id": "ZMNShgNEWg51"
      }
    },
    {
      "cell_type": "code",
      "source": [
        "#function to evaluate trained model\n",
        "def model_Evaluate(model):\n",
        "  # Predict values for Test dataset\n",
        "  y_pred = model.predict(X_test)\n",
        "  # Print the evaluation metrics for the dataset.\n",
        "  print(classification_report(y_test, y_pred))\n",
        "  # Compute and plot the Confusion matrix\n",
        "  cf_matrix = confusion_matrix(y_test, y_pred)\n",
        "  plt.figure()\n",
        "  plot_confusion_matrix(cf_matrix, classes=['Negative','Positive','Neutral'],normalize=True,\n",
        "                        title='Confusion matrix')"
      ],
      "metadata": {
        "id": "BNd7VhoyKBba"
      },
      "execution_count": 142,
      "outputs": []
    },
    {
      "cell_type": "code",
      "source": [
        "#function to plot confusion matrix for multi class target variable\n",
        "def plot_confusion_matrix(cm, classes,\n",
        "                          normalize=False,\n",
        "                          title='Confusion matrix',\n",
        "                          cmap=plt.cm.Blues):\n",
        "    \"\"\"\n",
        "    This function prints and plots the confusion matrix.\n",
        "    Normalization can be applied by setting `normalize=True`.\n",
        "    \"\"\"\n",
        "    import itertools\n",
        "    if normalize:\n",
        "        cm = cm.astype('float') / cm.sum(axis=1)[:, np.newaxis]\n",
        "        print(\"Normalized confusion matrix\")\n",
        "    else:\n",
        "        print('Confusion matrix, without normalization')\n",
        "\n",
        "    print(cm)\n",
        "\n",
        "    plt.imshow(cm, interpolation='nearest', cmap=cmap)\n",
        "    plt.title(title)\n",
        "    plt.colorbar()\n",
        "    tick_marks = np.arange(len(classes))\n",
        "    plt.xticks(tick_marks, classes, rotation=45)\n",
        "    plt.yticks(tick_marks, classes)\n",
        "\n",
        "    fmt = '.2f' if normalize else 'd'\n",
        "    thresh = cm.max() / 2.\n",
        "    for i, j in itertools.product(range(cm.shape[0]), range(cm.shape[1])):\n",
        "        plt.text(j, i, format(cm[i, j], fmt),\n",
        "                 horizontalalignment=\"center\",\n",
        "                 color=\"white\" if cm[i, j] > thresh else \"black\")\n",
        "\n",
        "    plt.ylabel('True label')\n",
        "    plt.xlabel('Predicted label')\n",
        "    plt.tight_layout()"
      ],
      "metadata": {
        "id": "7KXZQB69UPzD"
      },
      "execution_count": 143,
      "outputs": []
    },
    {
      "cell_type": "markdown",
      "source": [
        "**MODEL1**"
      ],
      "metadata": {
        "id": "yEYLhOCNdcL6"
      }
    },
    {
      "cell_type": "code",
      "source": [
        "BNBmodel = BernoulliNB()\n",
        "BNBmodel.fit(X_train, y_train)\n",
        "model_Evaluate(BNBmodel)\n",
        "y_pred2 = BNBmodel.predict(X_test)"
      ],
      "metadata": {
        "colab": {
          "base_uri": "https://localhost:8080/",
          "height": 540
        },
        "id": "XxDS54IKVXQf",
        "outputId": "d1da0e62-4a76-4ca4-8032-93db8541c8c9"
      },
      "execution_count": 144,
      "outputs": [
        {
          "output_type": "stream",
          "name": "stdout",
          "text": [
            "              precision    recall  f1-score   support\n",
            "\n",
            "           0       0.63      1.00      0.77       911\n",
            "           1       0.87      0.04      0.08       324\n",
            "           2       1.00      0.00      0.01       229\n",
            "\n",
            "    accuracy                           0.63      1464\n",
            "   macro avg       0.83      0.35      0.29      1464\n",
            "weighted avg       0.74      0.63      0.50      1464\n",
            "\n",
            "Normalized confusion matrix\n",
            "[[1.         0.         0.        ]\n",
            " [0.95987654 0.04012346 0.        ]\n",
            " [0.98689956 0.00873362 0.00436681]]\n"
          ]
        },
        {
          "output_type": "display_data",
          "data": {
            "image/png": "[encoded data removed]",
            "text/plain": [
              "<Figure size 432x288 with 2 Axes>"
            ]
          },
          "metadata": {
            "needs_background": "light"
          }
        }
      ]
    },
    {
      "cell_type": "markdown",
      "source": [
        "**MODEL2**"
      ],
      "metadata": {
        "id": "7w0js9the8ig"
      }
    },
    {
      "cell_type": "code",
      "source": [
        "SVCmodel = LinearSVC()\n",
        "SVCmodel.fit(X_train, y_train)\n",
        "model_Evaluate(SVCmodel)\n",
        "y_pred2 = SVCmodel.predict(X_test)"
      ],
      "metadata": {
        "colab": {
          "base_uri": "https://localhost:8080/",
          "height": 540
        },
        "id": "P-SIJgC0a1iD",
        "outputId": "17d4ac4b-ed35-4c54-cf5d-df512111fe12"
      },
      "execution_count": 145,
      "outputs": [
        {
          "output_type": "stream",
          "name": "stdout",
          "text": [
            "              precision    recall  f1-score   support\n",
            "\n",
            "           0       0.82      0.93      0.87       911\n",
            "           1       0.68      0.45      0.54       324\n",
            "           2       0.73      0.71      0.72       229\n",
            "\n",
            "    accuracy                           0.79      1464\n",
            "   macro avg       0.75      0.69      0.71      1464\n",
            "weighted avg       0.78      0.79      0.77      1464\n",
            "\n",
            "Normalized confusion matrix\n",
            "[[0.92645445 0.05159166 0.0219539 ]\n",
            " [0.43209877 0.44753086 0.12037037]\n",
            " [0.20524017 0.08733624 0.70742358]]\n"
          ]
        },
        {
          "output_type": "display_data",
          "data": {
            "image/png": "[encoded data removed]",
            "text/plain": [
              "<Figure size 432x288 with 2 Axes>"
            ]
          },
          "metadata": {
            "needs_background": "light"
          }
        }
      ]
    },
    {
      "cell_type": "markdown",
      "source": [
        "**MODEL3**"
      ],
      "metadata": {
        "id": "YT1dVCaJfKNZ"
      }
    },
    {
      "cell_type": "code",
      "source": [
        "LRmodel = LogisticRegression(C = 2, max_iter = 1000, n_jobs=-1)\n",
        "LRmodel.fit(X_train, y_train)\n",
        "model_Evaluate(LRmodel)\n",
        "y_pred3 = LRmodel.predict(X_test)"
      ],
      "metadata": {
        "colab": {
          "base_uri": "https://localhost:8080/",
          "height": 540
        },
        "id": "7tNG9KaGbGIA",
        "outputId": "da7e209c-7a64-4bfd-f0bb-d2b4b537920c"
      },
      "execution_count": 146,
      "outputs": [
        {
          "output_type": "stream",
          "name": "stdout",
          "text": [
            "              precision    recall  f1-score   support\n",
            "\n",
            "           0       0.80      0.94      0.86       911\n",
            "           1       0.76      0.43      0.55       324\n",
            "           2       0.75      0.67      0.71       229\n",
            "\n",
            "    accuracy                           0.79      1464\n",
            "   macro avg       0.77      0.68      0.71      1464\n",
            "weighted avg       0.78      0.79      0.77      1464\n",
            "\n",
            "Normalized confusion matrix\n",
            "[[0.94291987 0.03402854 0.02305159]\n",
            " [0.48148148 0.42901235 0.08950617]\n",
            " [0.27510917 0.05676856 0.66812227]]\n"
          ]
        },
        {
          "output_type": "display_data",
          "data": {
            "image/png": "[encoded data removed]",
            "text/plain": [
              "<Figure size 432x288 with 2 Axes>"
            ]
          },
          "metadata": {
            "needs_background": "light"
          }
        }
      ]
    },
    {
      "cell_type": "code",
      "source": [
        "#for now concluding LR to be best model based on current performance metrics.\n",
        "#tuning \n",
        "#next steps--using BERT models pretrained on tweets , \n",
        "#better to pretrain, finetune also on airline related tweets. "
      ],
      "metadata": {
        "id": "OoEa0y9dizOX"
      },
      "execution_count": 147,
      "outputs": []
    },
    {
      "cell_type": "code",
      "source": [
        "#function to find sentiment realtime using above trained LR model-\n",
        "def predict_tweet_sentiment(sample_tweet):\n",
        "  preprocessed_tweet=preprocess_tweet(sample_tweet)\n",
        "  df_test = pd.DataFrame({'text':preprocessed_tweet})\n",
        "  df_test = df_test.apply(lambda x: ' '.join(x))\n",
        "  df_test = vectoriser.transform(df_test)\n",
        "  test_pred = LRmodel.predict(df_test)\n",
        "  if test_pred[0]==0:\n",
        "    return \"negative\"\n",
        "  elif test_pred[0]==2:\n",
        "    return \"positive\"\n",
        "  else:\n",
        "    return \"neutral\""
      ],
      "metadata": {
        "id": "npkN1We72jj3"
      },
      "execution_count": 148,
      "outputs": []
    },
    {
      "cell_type": "code",
      "source": [
        "#sample tweets to test the trained model\n",
        "sample1=\"realy hated the flying experience of indigo airways @indigohandle\"\n",
        "sample2=\"realy loved the flying experience of jet2 airways @jet2handle\""
      ],
      "metadata": {
        "id": "ut8Pd7gQ8AI_"
      },
      "execution_count": 149,
      "outputs": []
    },
    {
      "cell_type": "code",
      "source": [
        "predict_tweet_sentiment(sample1)"
      ],
      "metadata": {
        "colab": {
          "base_uri": "https://localhost:8080/",
          "height": 35
        },
        "id": "S66HazVtAJgb",
        "outputId": "47df268f-e266-43f2-d748-59c3db848f71"
      },
      "execution_count": 150,
      "outputs": [
        {
          "output_type": "execute_result",
          "data": {
            "application/vnd.google.colaboratory.intrinsic+json": {
              "type": "string"
            },
            "text/plain": [
              "'negative'"
            ]
          },
          "metadata": {},
          "execution_count": 150
        }
      ]
    },
    {
      "cell_type": "code",
      "source": [
        "predict_tweet_sentiment(sample2)"
      ],
      "metadata": {
        "colab": {
          "base_uri": "https://localhost:8080/",
          "height": 35
        },
        "id": "WL9IEYhGAJis",
        "outputId": "77de826e-6eb7-4f98-884e-c38ec836c493"
      },
      "execution_count": 151,
      "outputs": [
        {
          "output_type": "execute_result",
          "data": {
            "application/vnd.google.colaboratory.intrinsic+json": {
              "type": "string"
            },
            "text/plain": [
              "'positive'"
            ]
          },
          "metadata": {},
          "execution_count": 151
        }
      ]
    },
    {
      "cell_type": "markdown",
      "source": [
        "**Finding themes behind negative tweets/topic modelling**"
      ],
      "metadata": {
        "id": "zwb69NYRl5eQ"
      }
    },
    {
      "cell_type": "code",
      "source": [
        "#negative sentiment = target variable = 0\n",
        "negative_sentiment_data_df=data.text[data.target==0]"
      ],
      "metadata": {
        "id": "vlICpI37ixC6"
      },
      "execution_count": 152,
      "outputs": []
    },
    {
      "cell_type": "code",
      "source": [
        "#negative sentiment data\n",
        "negative_sentiment_data_df"
      ],
      "metadata": {
        "colab": {
          "base_uri": "https://localhost:8080/"
        },
        "id": "0zUjXkL-lq5K",
        "outputId": "a51f6f69-2d3d-47ab-a3cf-987086b1aa17"
      },
      "execution_count": 153,
      "outputs": [
        {
          "output_type": "execute_result",
          "data": {
            "text/plain": [
              "3        [really, aggressive, blast, obnoxious, enterta...\n",
              "4                                [really, big, bad, thing]\n",
              "5        [seriously, would, pay, flight, seats, didnt, ...\n",
              "15                          [sfopdx, schedule, still, mia]\n",
              "17       [flew, nyc, sfo, last, week, couldnt, fully, s...\n",
              "                               ...                        \n",
              "14631    [thx, nothing, getting, us, country, back, us,...\n",
              "14633    [flight, cancelled, flightled, leaving, tomorr...\n",
              "14634                              [right, cue, delays, 👌]\n",
              "14636    [leaving, over, minutes, late, flight, no, war...\n",
              "14638    [money, change, flight, dont, answer, phones, ...\n",
              "Name: text, Length: 9178, dtype: object"
            ]
          },
          "metadata": {},
          "execution_count": 153
        }
      ]
    },
    {
      "cell_type": "code",
      "source": [
        "#preparing negative sentiment data corpus that is already tokenized, preprocessed thoroughly\n",
        "processed_data = []\n",
        "processed_data = negative_sentiment_data_df.tolist()\n",
        "processed_data[:2]"
      ],
      "metadata": {
        "colab": {
          "base_uri": "https://localhost:8080/"
        },
        "id": "X39CbsLLlsVW",
        "outputId": "e4266440-62f8-4ec2-d920-bdcceb4b7439"
      },
      "execution_count": 154,
      "outputs": [
        {
          "output_type": "execute_result",
          "data": {
            "text/plain": [
              "[['really',\n",
              "  'aggressive',\n",
              "  'blast',\n",
              "  'obnoxious',\n",
              "  'entertainment',\n",
              "  'guests',\n",
              "  'faces',\n",
              "  'amp',\n",
              "  'little',\n",
              "  'recourse'],\n",
              " ['really', 'big', 'bad', 'thing']]"
            ]
          },
          "metadata": {},
          "execution_count": 154
        }
      ]
    },
    {
      "cell_type": "code",
      "source": [
        "#Create a dictionary from 'processed_data' containing the number of times a word appears in the training set\n",
        "dictionary = gensim.corpora.Dictionary(processed_data)"
      ],
      "metadata": {
        "id": "OaOjrqn1n3a_"
      },
      "execution_count": 155,
      "outputs": []
    },
    {
      "cell_type": "code",
      "source": [
        "# Remove very rare and very common words:\n",
        "# words appearing less than 15 times\n",
        "# words appearing in more than 10% of all documents\n",
        "dictionary.filter_extremes(no_below=15, no_above=0.1, keep_n= 100000)\n"
      ],
      "metadata": {
        "id": "e-l0csLlogda"
      },
      "execution_count": 156,
      "outputs": []
    },
    {
      "cell_type": "code",
      "source": [
        "#for each document we create a dictionary reporting how many words and how many times those words appear\n",
        "bow_corpus = [dictionary.doc2bow(pd) for pd in processed_data]"
      ],
      "metadata": {
        "id": "v_8ZodcopfM7"
      },
      "execution_count": 157,
      "outputs": []
    },
    {
      "cell_type": "code",
      "source": [
        "#Preview BOW for our sample preprocessed data\n",
        "document_num = 10\n",
        "bow_doc_x = bow_corpus[document_num]\n",
        "\n",
        "for i in range(len(bow_doc_x)):\n",
        "    print(\"Word {} (\\\"{}\\\") appears {} time.\".format(bow_doc_x[i][0], \n",
        "                                                     dictionary[bow_doc_x[i][0]], \n",
        "                                                     bow_doc_x[i][1]))"
      ],
      "metadata": {
        "colab": {
          "base_uri": "https://localhost:8080/"
        },
        "id": "j5subBYxphqs",
        "outputId": "33d0d17d-20d7-4786-a327-95df7b117381"
      },
      "execution_count": 158,
      "outputs": [
        {
          "output_type": "stream",
          "name": "stdout",
          "text": [
            "Word 62 (\"cant\") appears 1 time.\n",
            "Word 64 (\"add\") appears 1 time.\n",
            "Word 65 (\"birthday\") appears 1 time.\n",
            "Word 66 (\"booking\") appears 1 time.\n",
            "Word 67 (\"cause\") appears 1 time.\n",
            "Word 68 (\"cool\") appears 1 time.\n",
            "Word 69 (\"hi\") appears 1 time.\n",
            "Word 70 (\"middle\") appears 1 time.\n",
            "Word 71 (\"name\") appears 1 time.\n",
            "Word 72 (\"problems\") appears 1 time.\n",
            "Word 73 (\"trip\") appears 1 time.\n",
            "Word 74 (\"you\") appears 1 time.\n"
          ]
        }
      ]
    },
    {
      "cell_type": "code",
      "source": [
        "#Training lda model using gensim.models.LdaMulticore; finding top 10 topics(themes behind negative tweets)\n",
        "lda_model =  gensim.models.LdaMulticore(bow_corpus, \n",
        "                                   num_topics = 10, \n",
        "                                   id2word = dictionary,                                    \n",
        "                                   passes = 10,\n",
        "                                   workers = 2)"
      ],
      "metadata": {
        "id": "0j7bPCfSpxAg"
      },
      "execution_count": 159,
      "outputs": []
    },
    {
      "cell_type": "code",
      "source": [
        "#For each topic, printing the words occuring in that topic and its relative weight\n",
        "for idx, topic in lda_model.print_topics(-1):\n",
        "    print(\"Topic: {} \\nWords: {}\".format(idx, topic ))\n",
        "    print(\"\\n\")"
      ],
      "metadata": {
        "colab": {
          "base_uri": "https://localhost:8080/"
        },
        "id": "mS1PJnr1qHLO",
        "outputId": "b71ce107-ef4f-497c-934b-1150300eae0c"
      },
      "execution_count": 160,
      "outputs": [
        {
          "output_type": "stream",
          "name": "stdout",
          "text": [
            "Topic: 0 \n",
            "Words: 0.062*\"call\" + 0.053*\"back\" + 0.024*\"time\" + 0.021*\"hold\" + 0.019*\"let\" + 0.017*\"system\" + 0.017*\"called\" + 0.013*\"hours\" + 0.012*\"off\" + 0.012*\"take\"\n",
            "\n",
            "\n",
            "Topic: 1 \n",
            "Words: 0.018*\"delay\" + 0.017*\"plane\" + 0.015*\"going\" + 0.015*\"late\" + 0.014*\"gate\" + 0.014*\"’\" + 0.014*\"min\" + 0.013*\"delayed\" + 0.012*\"understand\" + 0.011*\"call\"\n",
            "\n",
            "\n",
            "Topic: 2 \n",
            "Words: 0.045*\"service\" + 0.037*\"customer\" + 0.019*\"airport\" + 0.015*\"us\" + 0.015*\"im\" + 0.015*\"rude\" + 0.015*\"minutes\" + 0.014*\"line\" + 0.014*\"gate\" + 0.012*\"people\"\n",
            "\n",
            "\n",
            "Topic: 3 \n",
            "Words: 0.021*\"still\" + 0.018*\"bag\" + 0.018*\"im\" + 0.014*\"seat\" + 0.014*\"know\" + 0.014*\"guys\" + 0.012*\"hours\" + 0.012*\"could\" + 0.011*\"you\" + 0.010*\"make\"\n",
            "\n",
            "\n",
            "Topic: 4 \n",
            "Words: 0.032*\"hours\" + 0.025*\"thanks\" + 0.025*\"would\" + 0.017*\"told\" + 0.016*\"hour\" + 0.015*\"plane\" + 0.014*\"wait\" + 0.013*\"us\" + 0.013*\"yes\" + 0.013*\"said\"\n",
            "\n",
            "\n",
            "Topic: 5 \n",
            "Words: 0.045*\"service\" + 0.036*\"customer\" + 0.024*\"ever\" + 0.023*\"worst\" + 0.017*\"experience\" + 0.017*\"never\" + 0.016*\"airline\" + 0.013*\"seats\" + 0.012*\"again\" + 0.012*\"im\"\n",
            "\n",
            "\n",
            "Topic: 6 \n",
            "Words: 0.107*\"cancelled\" + 0.051*\"flightled\" + 0.028*\"flighted\" + 0.026*\"flights\" + 0.019*\"waiting\" + 0.019*\"hours\" + 0.018*\"tomorrow\" + 0.016*\"amp\" + 0.016*\"luggage\" + 0.015*\"plane\"\n",
            "\n",
            "\n",
            "Topic: 7 \n",
            "Words: 0.056*\"help\" + 0.034*\"phone\" + 0.024*\"please\" + 0.023*\"email\" + 0.019*\"cancelled\" + 0.016*\"someone\" + 0.015*\"one\" + 0.015*\"speak\" + 0.015*\"call\" + 0.014*\"need\"\n",
            "\n",
            "\n",
            "Topic: 8 \n",
            "Words: 0.029*\"like\" + 0.026*\"bag\" + 0.021*\"aa\" + 0.021*\"problems\" + 0.017*\"need\" + 0.015*\"help\" + 0.014*\"booking\" + 0.013*\"never\" + 0.013*\"dont\" + 0.012*\"got\"\n",
            "\n",
            "\n",
            "Topic: 9 \n",
            "Words: 0.057*\"cant\" + 0.025*\"hold\" + 0.022*\"help\" + 0.022*\"online\" + 0.020*\"change\" + 0.020*\"phone\" + 0.015*\"website\" + 0.013*\"trying\" + 0.013*\"dont\" + 0.013*\"need\"\n",
            "\n",
            "\n"
          ]
        }
      ]
    },
    {
      "cell_type": "markdown",
      "source": [
        "#Probable Topics learnt (from previous cell output)\n",
        "0: Calling hold/wait time\n",
        "\n",
        "1: help needed on cancellations\n",
        "\n",
        "2: long waiting hours at airport / gate\n",
        "\n",
        "3: flight delays\n",
        "\n",
        "4: flight late\n",
        "\n",
        "5: luggage wait time\n",
        "\n",
        "6: airport/hotel night stay\n",
        "\n",
        "7: fligh cancellations/rebooking\n",
        "\n",
        "8: bad customer service\n",
        "\n",
        "9: issue with phone calls\n"
      ],
      "metadata": {
        "id": "jw49FRe4sWhG"
      }
    },
    {
      "cell_type": "code",
      "source": [
        "#realtime checking for theme/topic \n",
        "def get_sentiment_theme(input_tweet):\n",
        "  '''\n",
        "  returns the score for the above 10 topics, sorted in descending, most related being the 1st one\n",
        "  '''\n",
        "  #the maximum score above is of the matched topic (1st row of the result)\n",
        "  bow_vector = dictionary.doc2bow(preprocess_tweet(input_tweet))\n",
        "  for index, score in sorted(lda_model[bow_vector], key=lambda tup: -1*tup[1]):\n",
        "      print(\"Score: {}\\t Topic: {}\".format(score, lda_model.print_topic(index, 8)))\n"
      ],
      "metadata": {
        "id": "mc2jbz6WA97D"
      },
      "execution_count": 161,
      "outputs": []
    },
    {
      "cell_type": "code",
      "source": [
        "#sample tweets for predicting topic/theme\n",
        "tweet1=\"I was waiting for luggage to arive for 10 hours.\"\n",
        "tweet2=\"I am feeling bad as the customer service person keeps call on hold for hours . \"\n",
        "tweet3=\"My flight has been delayed for 2 hours. I am very disappointed by the @indogo airline\""
      ],
      "metadata": {
        "id": "AkhFs6qnF5Gm"
      },
      "execution_count": 168,
      "outputs": []
    },
    {
      "cell_type": "code",
      "source": [
        "get_sentiment_theme(tweet1)"
      ],
      "metadata": {
        "colab": {
          "base_uri": "https://localhost:8080/"
        },
        "id": "IKR4GyzfCuEp",
        "outputId": "a97e1a39-1b5a-429f-bab7-599644d89652"
      },
      "execution_count": 169,
      "outputs": [
        {
          "output_type": "stream",
          "name": "stdout",
          "text": [
            "Score: 0.7749807238578796\t Topic: 0.107*\"cancelled\" + 0.051*\"flightled\" + 0.028*\"flighted\" + 0.026*\"flights\" + 0.019*\"waiting\" + 0.019*\"hours\" + 0.018*\"tomorrow\" + 0.016*\"amp\"\n",
            "Score: 0.025006407871842384\t Topic: 0.032*\"hours\" + 0.025*\"thanks\" + 0.025*\"would\" + 0.017*\"told\" + 0.016*\"hour\" + 0.015*\"plane\" + 0.014*\"wait\" + 0.013*\"us\"\n",
            "Score: 0.025002695620059967\t Topic: 0.056*\"help\" + 0.034*\"phone\" + 0.024*\"please\" + 0.023*\"email\" + 0.019*\"cancelled\" + 0.016*\"someone\" + 0.015*\"one\" + 0.015*\"speak\"\n",
            "Score: 0.025002513080835342\t Topic: 0.062*\"call\" + 0.053*\"back\" + 0.024*\"time\" + 0.021*\"hold\" + 0.019*\"let\" + 0.017*\"system\" + 0.017*\"called\" + 0.013*\"hours\"\n",
            "Score: 0.025002293288707733\t Topic: 0.045*\"service\" + 0.037*\"customer\" + 0.019*\"airport\" + 0.015*\"us\" + 0.015*\"im\" + 0.015*\"rude\" + 0.015*\"minutes\" + 0.014*\"line\"\n",
            "Score: 0.02500188909471035\t Topic: 0.021*\"still\" + 0.018*\"bag\" + 0.018*\"im\" + 0.014*\"seat\" + 0.014*\"know\" + 0.014*\"guys\" + 0.012*\"hours\" + 0.012*\"could\"\n",
            "Score: 0.025001348927617073\t Topic: 0.057*\"cant\" + 0.025*\"hold\" + 0.022*\"help\" + 0.022*\"online\" + 0.020*\"change\" + 0.020*\"phone\" + 0.015*\"website\" + 0.013*\"trying\"\n",
            "Score: 0.025001149624586105\t Topic: 0.018*\"delay\" + 0.017*\"plane\" + 0.015*\"going\" + 0.015*\"late\" + 0.014*\"gate\" + 0.014*\"’\" + 0.014*\"min\" + 0.013*\"delayed\"\n",
            "Score: 0.02500069886445999\t Topic: 0.029*\"like\" + 0.026*\"bag\" + 0.021*\"aa\" + 0.021*\"problems\" + 0.017*\"need\" + 0.015*\"help\" + 0.014*\"booking\" + 0.013*\"never\"\n",
            "Score: 0.025000300258398056\t Topic: 0.045*\"service\" + 0.036*\"customer\" + 0.024*\"ever\" + 0.023*\"worst\" + 0.017*\"experience\" + 0.017*\"never\" + 0.016*\"airline\" + 0.013*\"seats\"\n"
          ]
        }
      ]
    },
    {
      "cell_type": "code",
      "source": [
        "get_sentiment_theme(tweet2)"
      ],
      "metadata": {
        "colab": {
          "base_uri": "https://localhost:8080/"
        },
        "id": "-p8fXRXtHHyF",
        "outputId": "ece5d643-ef26-42da-8be8-d7638381e240"
      },
      "execution_count": 170,
      "outputs": [
        {
          "output_type": "stream",
          "name": "stdout",
          "text": [
            "Score: 0.4609377086162567\t Topic: 0.062*\"call\" + 0.053*\"back\" + 0.024*\"time\" + 0.021*\"hold\" + 0.019*\"let\" + 0.017*\"system\" + 0.017*\"called\" + 0.013*\"hours\"\n",
            "Score: 0.45015478134155273\t Topic: 0.045*\"service\" + 0.036*\"customer\" + 0.024*\"ever\" + 0.023*\"worst\" + 0.017*\"experience\" + 0.017*\"never\" + 0.016*\"airline\" + 0.013*\"seats\"\n",
            "Score: 0.011116456240415573\t Topic: 0.056*\"help\" + 0.034*\"phone\" + 0.024*\"please\" + 0.023*\"email\" + 0.019*\"cancelled\" + 0.016*\"someone\" + 0.015*\"one\" + 0.015*\"speak\"\n",
            "Score: 0.011114138178527355\t Topic: 0.045*\"service\" + 0.037*\"customer\" + 0.019*\"airport\" + 0.015*\"us\" + 0.015*\"im\" + 0.015*\"rude\" + 0.015*\"minutes\" + 0.014*\"line\"\n",
            "Score: 0.011113673448562622\t Topic: 0.032*\"hours\" + 0.025*\"thanks\" + 0.025*\"would\" + 0.017*\"told\" + 0.016*\"hour\" + 0.015*\"plane\" + 0.014*\"wait\" + 0.013*\"us\"\n",
            "Score: 0.0111134834587574\t Topic: 0.057*\"cant\" + 0.025*\"hold\" + 0.022*\"help\" + 0.022*\"online\" + 0.020*\"change\" + 0.020*\"phone\" + 0.015*\"website\" + 0.013*\"trying\"\n",
            "Score: 0.011113054119050503\t Topic: 0.107*\"cancelled\" + 0.051*\"flightled\" + 0.028*\"flighted\" + 0.026*\"flights\" + 0.019*\"waiting\" + 0.019*\"hours\" + 0.018*\"tomorrow\" + 0.016*\"amp\"\n",
            "Score: 0.011112895794212818\t Topic: 0.018*\"delay\" + 0.017*\"plane\" + 0.015*\"going\" + 0.015*\"late\" + 0.014*\"gate\" + 0.014*\"’\" + 0.014*\"min\" + 0.013*\"delayed\"\n",
            "Score: 0.01111235935240984\t Topic: 0.021*\"still\" + 0.018*\"bag\" + 0.018*\"im\" + 0.014*\"seat\" + 0.014*\"know\" + 0.014*\"guys\" + 0.012*\"hours\" + 0.012*\"could\"\n",
            "Score: 0.01111146342009306\t Topic: 0.029*\"like\" + 0.026*\"bag\" + 0.021*\"aa\" + 0.021*\"problems\" + 0.017*\"need\" + 0.015*\"help\" + 0.014*\"booking\" + 0.013*\"never\"\n"
          ]
        }
      ]
    },
    {
      "cell_type": "code",
      "source": [
        "get_sentiment_theme(tweet3)"
      ],
      "metadata": {
        "colab": {
          "base_uri": "https://localhost:8080/"
        },
        "id": "uR2wt7HDHUdF",
        "outputId": "05370ae5-c4d7-4f2e-b55a-fe98fdfe1876"
      },
      "execution_count": 171,
      "outputs": [
        {
          "output_type": "stream",
          "name": "stdout",
          "text": [
            "Score: 0.3064354360103607\t Topic: 0.032*\"hours\" + 0.025*\"thanks\" + 0.025*\"would\" + 0.017*\"told\" + 0.016*\"hour\" + 0.015*\"plane\" + 0.014*\"wait\" + 0.013*\"us\"\n",
            "Score: 0.2783873677253723\t Topic: 0.029*\"like\" + 0.026*\"bag\" + 0.021*\"aa\" + 0.021*\"problems\" + 0.017*\"need\" + 0.015*\"help\" + 0.014*\"booking\" + 0.013*\"never\"\n",
            "Score: 0.27514517307281494\t Topic: 0.045*\"service\" + 0.037*\"customer\" + 0.019*\"airport\" + 0.015*\"us\" + 0.015*\"im\" + 0.015*\"rude\" + 0.015*\"minutes\" + 0.014*\"line\"\n",
            "Score: 0.020009813830256462\t Topic: 0.045*\"service\" + 0.036*\"customer\" + 0.024*\"ever\" + 0.023*\"worst\" + 0.017*\"experience\" + 0.017*\"never\" + 0.016*\"airline\" + 0.013*\"seats\"\n",
            "Score: 0.020006589591503143\t Topic: 0.107*\"cancelled\" + 0.051*\"flightled\" + 0.028*\"flighted\" + 0.026*\"flights\" + 0.019*\"waiting\" + 0.019*\"hours\" + 0.018*\"tomorrow\" + 0.016*\"amp\"\n",
            "Score: 0.02000541426241398\t Topic: 0.018*\"delay\" + 0.017*\"plane\" + 0.015*\"going\" + 0.015*\"late\" + 0.014*\"gate\" + 0.014*\"’\" + 0.014*\"min\" + 0.013*\"delayed\"\n",
            "Score: 0.020003387704491615\t Topic: 0.021*\"still\" + 0.018*\"bag\" + 0.018*\"im\" + 0.014*\"seat\" + 0.014*\"know\" + 0.014*\"guys\" + 0.012*\"hours\" + 0.012*\"could\"\n",
            "Score: 0.02000310830771923\t Topic: 0.062*\"call\" + 0.053*\"back\" + 0.024*\"time\" + 0.021*\"hold\" + 0.019*\"let\" + 0.017*\"system\" + 0.017*\"called\" + 0.013*\"hours\"\n",
            "Score: 0.020001878961920738\t Topic: 0.056*\"help\" + 0.034*\"phone\" + 0.024*\"please\" + 0.023*\"email\" + 0.019*\"cancelled\" + 0.016*\"someone\" + 0.015*\"one\" + 0.015*\"speak\"\n",
            "Score: 0.02000180259346962\t Topic: 0.057*\"cant\" + 0.025*\"hold\" + 0.022*\"help\" + 0.022*\"online\" + 0.020*\"change\" + 0.020*\"phone\" + 0.015*\"website\" + 0.013*\"trying\"\n"
          ]
        }
      ]
    },
    {
      "cell_type": "code",
      "source": [
        ""
      ],
      "metadata": {
        "id": "EDKsRiZwIETt"
      },
      "execution_count": 165,
      "outputs": []
    }
  ]
}